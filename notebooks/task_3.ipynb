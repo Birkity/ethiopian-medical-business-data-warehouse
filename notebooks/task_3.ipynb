{
 "cells": [
  {
   "cell_type": "markdown",
   "metadata": {},
   "source": [
    "Object Detection Using YOLO"
   ]
  },
  {
   "cell_type": "markdown",
   "metadata": {},
   "source": [
    "Set Up YOLOv5 Environment"
   ]
  },
  {
   "cell_type": "code",
   "execution_count": 1,
   "metadata": {},
   "outputs": [
    {
     "name": "stdout",
     "output_type": "stream",
     "text": [
      "c:\\Users\\USER\\Documents\\OPLearning\\10_Academy\\Week_7\\notebooks\\yolov5\n"
     ]
    },
    {
     "name": "stderr",
     "output_type": "stream",
     "text": [
      "Cloning into 'yolov5'...\n",
      "Updating files:  47% (70/147)\n",
      "Updating files:  48% (71/147)\n",
      "Updating files:  49% (73/147)\n",
      "Updating files:  50% (74/147)\n",
      "Updating files:  51% (75/147)\n",
      "Updating files:  52% (77/147)\n",
      "Updating files:  53% (78/147)\n",
      "Updating files:  54% (80/147)\n",
      "Updating files:  55% (81/147)\n",
      "Updating files:  56% (83/147)\n",
      "Updating files:  57% (84/147)\n",
      "Updating files:  58% (86/147)\n",
      "Updating files:  59% (87/147)\n",
      "Updating files:  60% (89/147)\n",
      "Updating files:  61% (90/147)\n",
      "Updating files:  62% (92/147)\n",
      "Updating files:  63% (93/147)\n",
      "Updating files:  64% (95/147)\n",
      "Updating files:  65% (96/147)\n",
      "Updating files:  66% (98/147)\n",
      "Updating files:  67% (99/147)\n",
      "Updating files:  68% (100/147)\n",
      "Updating files:  69% (102/147)\n",
      "Updating files:  70% (103/147)\n",
      "Updating files:  71% (105/147)\n",
      "Updating files:  72% (106/147)\n",
      "Updating files:  73% (108/147)\n",
      "Updating files:  74% (109/147)\n",
      "Updating files:  75% (111/147)\n",
      "Updating files:  76% (112/147)\n",
      "Updating files:  77% (114/147)\n",
      "Updating files:  78% (115/147)\n",
      "Updating files:  79% (117/147)\n",
      "Updating files:  80% (118/147)\n",
      "Updating files:  81% (120/147)\n",
      "Updating files:  82% (121/147)\n",
      "Updating files:  83% (123/147)\n",
      "Updating files:  84% (124/147)\n",
      "Updating files:  85% (125/147)\n",
      "Updating files:  86% (127/147)\n",
      "Updating files:  87% (128/147)\n",
      "Updating files:  88% (130/147)\n",
      "Updating files:  89% (131/147)\n",
      "Updating files:  90% (133/147)\n",
      "Updating files:  91% (134/147)\n",
      "Updating files:  92% (136/147)\n",
      "Updating files:  93% (137/147)\n",
      "Updating files:  94% (139/147)\n",
      "Updating files:  95% (140/147)\n",
      "Updating files:  96% (142/147)\n",
      "Updating files:  97% (143/147)\n",
      "Updating files:  98% (145/147)\n",
      "Updating files:  99% (146/147)\n",
      "Updating files: 100% (147/147)\n",
      "Updating files: 100% (147/147), done.\n",
      "c:\\Users\\USER\\Documents\\OPLearning\\10_Academy\\Week_7\\myenv\\Lib\\site-packages\\IPython\\core\\magics\\osm.py:417: UserWarning: This is now an optional IPython functionality, setting dhist requires you to install the `pickleshare` library.\n",
      "  self.shell.db['dhist'] = compress_dhist(dhist)[-100:]\n"
     ]
    }
   ],
   "source": [
    "!git clone https://github.com/ultralytics/yolov5.git\n",
    "%cd yolov5"
   ]
  },
  {
   "cell_type": "code",
   "execution_count": 2,
   "metadata": {},
   "outputs": [],
   "source": [
    "import cv2\n",
    "import os\n",
    "\n",
    "image_folder = r\"C:\\Users\\USER\\Documents\\OPLearning\\10_Academy\\Week_7\\data\\downloaded_images\"\n"
   ]
  },
  {
   "cell_type": "markdown",
   "metadata": {},
   "source": [
    " Perform Object Detection and Save Results"
   ]
  },
  {
   "cell_type": "code",
   "execution_count": 3,
   "metadata": {},
   "outputs": [],
   "source": [
    "import torch\n",
    "import pandas as pd\n",
    "import logging\n",
    "import glob\n",
    "import matplotlib.pyplot as plt\n",
    "import hashlib\n",
    "import shutil\n",
    "\n",
    "os.makedirs('detection_results', exist_ok=True)\n",
    "os.makedirs('selected_examples', exist_ok=True)"
   ]
  },
  {
   "cell_type": "code",
   "execution_count": 4,
   "metadata": {},
   "outputs": [],
   "source": [
    "\n",
    "logging.basicConfig(filename='detection.log', level=logging.INFO,\n",
    "                    format='%(asctime)s - %(levelname)s - %(message)s')\n",
    "\n",
    "def compute_image_hash(image_path):\n",
    "    with open(image_path, \"rb\") as image_file:\n",
    "        buffer = image_file.read()\n",
    "    hash_object = hashlib.md5(buffer)\n",
    "    return hash_object.hexdigest()"
   ]
  },
  {
   "cell_type": "code",
   "execution_count": 5,
   "metadata": {},
   "outputs": [],
   "source": [
    "unique_hashes = set()\n",
    "duplicate_images = []\n",
    "for filename in os.listdir(image_folder):\n",
    "    image_path = os.path.join(image_folder, filename)\n",
    "    image_hash = compute_image_hash(image_path)\n",
    "    if image_hash in unique_hashes:\n",
    "        duplicate_images.append(filename)\n",
    "    else:\n",
    "        unique_hashes.add(image_hash)\n",
    "\n",
    "if duplicate_images:\n",
    "    logging.warning(f\"Found {len(duplicate_images)} duplicate images:\")\n",
    "    logging.warning(\", \".join(duplicate_images))\n",
    "else:\n",
    "    logging.info(\"No duplicate images found.\")"
   ]
  },
  {
   "cell_type": "code",
   "execution_count": 6,
   "metadata": {},
   "outputs": [],
   "source": [
    "filtered_images = [img for img in os.listdir(image_folder) if img not in duplicate_images]\n",
    "image_folder = image_folder\n",
    "selected_images = filtered_images[:100]  "
   ]
  },
  {
   "cell_type": "code",
   "execution_count": 11,
   "metadata": {},
   "outputs": [
    {
     "name": "stderr",
     "output_type": "stream",
     "text": [
      "Downloading: \"https://github.com/ultralytics/yolov5/zipball/master\" to C:\\Users\\USER/.cache\\torch\\hub\\master.zip\n",
      "YOLOv5  2024-10-14 Python-3.11.2 torch-2.4.1+cpu CPU\n",
      "\n",
      "Downloading https://github.com/ultralytics/yolov5/releases/download/v7.0/yolov5s.pt to yolov5s.pt...\n",
      "100%|██████████| 14.1M/14.1M [00:08<00:00, 1.75MB/s]\n",
      "\n",
      "Fusing layers... \n",
      "YOLOv5s summary: 213 layers, 7225885 parameters, 0 gradients, 16.4 GFLOPs\n",
      "Adding AutoShape... \n"
     ]
    }
   ],
   "source": [
    "import torch\n",
    "\n",
    "model = torch.hub.load(\"ultralytics/yolov5\", \"yolov5s\", force_reload=True)"
   ]
  }
 ],
 "metadata": {
  "kernelspec": {
   "display_name": "myenv",
   "language": "python",
   "name": "python3"
  },
  "language_info": {
   "codemirror_mode": {
    "name": "ipython",
    "version": 3
   },
   "file_extension": ".py",
   "mimetype": "text/x-python",
   "name": "python",
   "nbconvert_exporter": "python",
   "pygments_lexer": "ipython3",
   "version": "3.11.2"
  }
 },
 "nbformat": 4,
 "nbformat_minor": 2
}
