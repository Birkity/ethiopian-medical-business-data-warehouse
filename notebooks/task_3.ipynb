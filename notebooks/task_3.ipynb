{
 "cells": [
  {
   "cell_type": "markdown",
   "metadata": {},
   "source": [
    "Object Detection Using YOLO"
   ]
  },
  {
   "cell_type": "markdown",
   "metadata": {},
   "source": [
    "Set Up YOLOv5 Environment"
   ]
  },
  {
   "cell_type": "code",
   "execution_count": 1,
   "metadata": {},
   "outputs": [
    {
     "name": "stdout",
     "output_type": "stream",
     "text": [
      "Collecting opencv-python-headless\n",
      "  Downloading opencv_python_headless-4.10.0.84-cp37-abi3-win_amd64.whl (38.8 MB)\n",
      "     -------------------------------------- 38.8/38.8 MB 233.7 kB/s eta 0:00:00\n",
      "Collecting torch\n",
      "  Using cached torch-2.4.1-cp311-cp311-win_amd64.whl (199.4 MB)\n",
      "Collecting torchvision\n",
      "  Downloading torchvision-0.19.1-cp311-cp311-win_amd64.whl (1.3 MB)\n",
      "     ---------------------------------------- 1.3/1.3 MB 250.2 kB/s eta 0:00:00\n",
      "Collecting ultralytics\n",
      "  Downloading ultralytics-8.3.12-py3-none-any.whl (870 kB)\n",
      "     ------------------------------------ 871.0/871.0 kB 353.0 kB/s eta 0:00:00\n",
      "Requirement already satisfied: numpy>=1.21.2 in c:\\users\\user\\documents\\oplearning\\10_academy\\week_7\\myenv\\lib\\site-packages (from opencv-python-headless) (2.1.2)\n",
      "Collecting filelock\n",
      "  Using cached filelock-3.16.1-py3-none-any.whl (16 kB)\n",
      "Requirement already satisfied: typing-extensions>=4.8.0 in c:\\users\\user\\documents\\oplearning\\10_academy\\week_7\\myenv\\lib\\site-packages (from torch) (4.12.2)\n",
      "Collecting sympy\n",
      "  Using cached sympy-1.13.3-py3-none-any.whl (6.2 MB)\n",
      "Requirement already satisfied: networkx in c:\\users\\user\\documents\\oplearning\\10_academy\\week_7\\myenv\\lib\\site-packages (from torch) (3.4)\n",
      "Requirement already satisfied: jinja2 in c:\\users\\user\\documents\\oplearning\\10_academy\\week_7\\myenv\\lib\\site-packages (from torch) (3.1.4)\n",
      "Collecting fsspec\n",
      "  Using cached fsspec-2024.9.0-py3-none-any.whl (179 kB)\n",
      "Collecting pillow!=8.3.*,>=5.3.0\n",
      "  Using cached pillow-10.4.0-cp311-cp311-win_amd64.whl (2.6 MB)\n",
      "Collecting matplotlib>=3.3.0\n",
      "  Using cached matplotlib-3.9.2-cp311-cp311-win_amd64.whl (7.8 MB)\n",
      "Collecting opencv-python>=4.6.0\n",
      "  Downloading opencv_python-4.10.0.84-cp37-abi3-win_amd64.whl (38.8 MB)\n",
      "     ---------------------------------------- 38.8/38.8 MB 1.1 MB/s eta 0:00:00\n",
      "Requirement already satisfied: pyyaml>=5.3.1 in c:\\users\\user\\documents\\oplearning\\10_academy\\week_7\\myenv\\lib\\site-packages (from ultralytics) (6.0.2)\n",
      "Requirement already satisfied: requests>=2.23.0 in c:\\users\\user\\documents\\oplearning\\10_academy\\week_7\\myenv\\lib\\site-packages (from ultralytics) (2.32.3)\n",
      "Collecting scipy>=1.4.1\n",
      "  Using cached scipy-1.14.1-cp311-cp311-win_amd64.whl (44.8 MB)\n",
      "Collecting tqdm>=4.64.0\n",
      "  Using cached tqdm-4.66.5-py3-none-any.whl (78 kB)\n",
      "Requirement already satisfied: psutil in c:\\users\\user\\documents\\oplearning\\10_academy\\week_7\\myenv\\lib\\site-packages (from ultralytics) (6.0.0)\n",
      "Collecting py-cpuinfo\n",
      "  Downloading py_cpuinfo-9.0.0-py3-none-any.whl (22 kB)\n",
      "Requirement already satisfied: pandas>=1.1.4 in c:\\users\\user\\documents\\oplearning\\10_academy\\week_7\\myenv\\lib\\site-packages (from ultralytics) (2.2.3)\n",
      "Collecting seaborn>=0.11.0\n",
      "  Using cached seaborn-0.13.2-py3-none-any.whl (294 kB)\n",
      "Collecting ultralytics-thop>=2.0.0\n",
      "  Downloading ultralytics_thop-2.0.9-py3-none-any.whl (26 kB)\n",
      "Collecting contourpy>=1.0.1\n",
      "  Using cached contourpy-1.3.0-cp311-cp311-win_amd64.whl (217 kB)\n",
      "Collecting cycler>=0.10\n",
      "  Using cached cycler-0.12.1-py3-none-any.whl (8.3 kB)\n",
      "Collecting fonttools>=4.22.0\n",
      "  Using cached fonttools-4.54.1-cp311-cp311-win_amd64.whl (2.2 MB)\n",
      "Collecting kiwisolver>=1.3.1\n",
      "  Using cached kiwisolver-1.4.7-cp311-cp311-win_amd64.whl (56 kB)\n",
      "Requirement already satisfied: packaging>=20.0 in c:\\users\\user\\documents\\oplearning\\10_academy\\week_7\\myenv\\lib\\site-packages (from matplotlib>=3.3.0->ultralytics) (24.1)\n",
      "Collecting pyparsing>=2.3.1\n",
      "  Downloading pyparsing-3.2.0-py3-none-any.whl (106 kB)\n",
      "     ------------------------------------ 106.9/106.9 kB 690.6 kB/s eta 0:00:00\n",
      "Requirement already satisfied: python-dateutil>=2.7 in c:\\users\\user\\documents\\oplearning\\10_academy\\week_7\\myenv\\lib\\site-packages (from matplotlib>=3.3.0->ultralytics) (2.9.0.post0)\n",
      "Requirement already satisfied: pytz>=2020.1 in c:\\users\\user\\documents\\oplearning\\10_academy\\week_7\\myenv\\lib\\site-packages (from pandas>=1.1.4->ultralytics) (2024.2)\n",
      "Requirement already satisfied: tzdata>=2022.7 in c:\\users\\user\\documents\\oplearning\\10_academy\\week_7\\myenv\\lib\\site-packages (from pandas>=1.1.4->ultralytics) (2024.2)\n",
      "Requirement already satisfied: charset-normalizer<4,>=2 in c:\\users\\user\\documents\\oplearning\\10_academy\\week_7\\myenv\\lib\\site-packages (from requests>=2.23.0->ultralytics) (3.4.0)\n",
      "Requirement already satisfied: idna<4,>=2.5 in c:\\users\\user\\documents\\oplearning\\10_academy\\week_7\\myenv\\lib\\site-packages (from requests>=2.23.0->ultralytics) (3.10)\n",
      "Requirement already satisfied: urllib3<3,>=1.21.1 in c:\\users\\user\\documents\\oplearning\\10_academy\\week_7\\myenv\\lib\\site-packages (from requests>=2.23.0->ultralytics) (2.2.3)\n",
      "Requirement already satisfied: certifi>=2017.4.17 in c:\\users\\user\\documents\\oplearning\\10_academy\\week_7\\myenv\\lib\\site-packages (from requests>=2.23.0->ultralytics) (2024.8.30)\n",
      "Requirement already satisfied: colorama in c:\\users\\user\\documents\\oplearning\\10_academy\\week_7\\myenv\\lib\\site-packages (from tqdm>=4.64.0->ultralytics) (0.4.6)\n",
      "Requirement already satisfied: MarkupSafe>=2.0 in c:\\users\\user\\documents\\oplearning\\10_academy\\week_7\\myenv\\lib\\site-packages (from jinja2->torch) (3.0.1)\n",
      "Collecting mpmath<1.4,>=1.1.0\n",
      "  Using cached mpmath-1.3.0-py3-none-any.whl (536 kB)\n",
      "Requirement already satisfied: six>=1.5 in c:\\users\\user\\documents\\oplearning\\10_academy\\week_7\\myenv\\lib\\site-packages (from python-dateutil>=2.7->matplotlib>=3.3.0->ultralytics) (1.16.0)\n",
      "Installing collected packages: py-cpuinfo, mpmath, tqdm, sympy, scipy, pyparsing, pillow, opencv-python-headless, opencv-python, kiwisolver, fsspec, fonttools, filelock, cycler, contourpy, torch, matplotlib, ultralytics-thop, torchvision, seaborn, ultralytics\n",
      "Successfully installed contourpy-1.3.0 cycler-0.12.1 filelock-3.16.1 fonttools-4.54.1 fsspec-2024.9.0 kiwisolver-1.4.7 matplotlib-3.9.2 mpmath-1.3.0 opencv-python-4.10.0.84 opencv-python-headless-4.10.0.84 pillow-10.4.0 py-cpuinfo-9.0.0 pyparsing-3.2.0 scipy-1.14.1 seaborn-0.13.2 sympy-1.13.3 torch-2.4.1 torchvision-0.19.1 tqdm-4.66.5 ultralytics-8.3.12 ultralytics-thop-2.0.9\n",
      "Note: you may need to restart the kernel to use updated packages.\n"
     ]
    },
    {
     "name": "stderr",
     "output_type": "stream",
     "text": [
      "  WARNING: Retrying (Retry(total=4, connect=None, read=None, redirect=None, status=None)) after connection broken by 'NewConnectionError('<pip._vendor.urllib3.connection.HTTPSConnection object at 0x000002659E4EC590>: Failed to establish a new connection: [Errno 11002] getaddrinfo failed')': /packages/26/d0/22f68eb23eea053a31655960f133c0be9726c6a881547e6e9e7e2a946c4f/opencv_python_headless-4.10.0.84-cp37-abi3-win_amd64.whl\n",
      "  WARNING: Retrying (Retry(total=3, connect=None, read=None, redirect=None, status=None)) after connection broken by 'NewConnectionError('<pip._vendor.urllib3.connection.HTTPSConnection object at 0x000002659E4ED010>: Failed to establish a new connection: [Errno 11002] getaddrinfo failed')': /packages/26/d0/22f68eb23eea053a31655960f133c0be9726c6a881547e6e9e7e2a946c4f/opencv_python_headless-4.10.0.84-cp37-abi3-win_amd64.whl\n",
      "  WARNING: Retrying (Retry(total=2, connect=None, read=None, redirect=None, status=None)) after connection broken by 'NewConnectionError('<pip._vendor.urllib3.connection.HTTPSConnection object at 0x000002659E4EDC90>: Failed to establish a new connection: [Errno 11002] getaddrinfo failed')': /packages/26/d0/22f68eb23eea053a31655960f133c0be9726c6a881547e6e9e7e2a946c4f/opencv_python_headless-4.10.0.84-cp37-abi3-win_amd64.whl\n",
      "  WARNING: Retrying (Retry(total=1, connect=None, read=None, redirect=None, status=None)) after connection broken by 'NewConnectionError('<pip._vendor.urllib3.connection.HTTPSConnection object at 0x000002659E4EE8D0>: Failed to establish a new connection: [Errno 11002] getaddrinfo failed')': /packages/26/d0/22f68eb23eea053a31655960f133c0be9726c6a881547e6e9e7e2a946c4f/opencv_python_headless-4.10.0.84-cp37-abi3-win_amd64.whl\n",
      "  WARNING: Retrying (Retry(total=0, connect=None, read=None, redirect=None, status=None)) after connection broken by 'NewConnectionError('<pip._vendor.urllib3.connection.HTTPSConnection object at 0x000002659E4EF510>: Failed to establish a new connection: [Errno 11002] getaddrinfo failed')': /packages/26/d0/22f68eb23eea053a31655960f133c0be9726c6a881547e6e9e7e2a946c4f/opencv_python_headless-4.10.0.84-cp37-abi3-win_amd64.whl\n",
      "\n",
      "[notice] A new release of pip available: 22.3.1 -> 24.2\n",
      "[notice] To update, run: python.exe -m pip install --upgrade pip\n"
     ]
    }
   ],
   "source": [
    "pip install opencv-python-headless torch torchvision ultralytics"
   ]
  },
  {
   "cell_type": "code",
   "execution_count": 2,
   "metadata": {},
   "outputs": [
    {
     "name": "stdout",
     "output_type": "stream",
     "text": [
      "c:\\Users\\USER\\Documents\\OPLearning\\10_Academy\\Week_7\\notebooks\\yolov5\n"
     ]
    },
    {
     "name": "stderr",
     "output_type": "stream",
     "text": [
      "Cloning into 'yolov5'...\n",
      "c:\\Users\\USER\\Documents\\OPLearning\\10_Academy\\Week_7\\myenv\\Lib\\site-packages\\IPython\\core\\magics\\osm.py:417: UserWarning: This is now an optional IPython functionality, setting dhist requires you to install the `pickleshare` library.\n",
      "  self.shell.db['dhist'] = compress_dhist(dhist)[-100:]\n"
     ]
    }
   ],
   "source": [
    "!git clone https://github.com/ultralytics/yolov5.git\n",
    "%cd yolov5"
   ]
  },
  {
   "cell_type": "code",
   "execution_count": 3,
   "metadata": {},
   "outputs": [],
   "source": [
    "import cv2\n",
    "import os\n",
    "\n",
    "image_folder = '../data/downloaded_images/'\n"
   ]
  },
  {
   "cell_type": "code",
   "execution_count": null,
   "metadata": {},
   "outputs": [],
   "source": []
  }
 ],
 "metadata": {
  "kernelspec": {
   "display_name": "myenv",
   "language": "python",
   "name": "python3"
  },
  "language_info": {
   "codemirror_mode": {
    "name": "ipython",
    "version": 3
   },
   "file_extension": ".py",
   "mimetype": "text/x-python",
   "name": "python",
   "nbconvert_exporter": "python",
   "pygments_lexer": "ipython3",
   "version": "3.11.2"
  }
 },
 "nbformat": 4,
 "nbformat_minor": 2
}
