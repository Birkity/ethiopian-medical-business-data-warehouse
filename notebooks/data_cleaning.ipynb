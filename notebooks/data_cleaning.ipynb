{
 "cells": [
  {
   "cell_type": "code",
   "execution_count": 3,
   "metadata": {},
   "outputs": [],
   "source": [
    "import pandas as pd\n",
    "import re\n",
    "\n",
    "df = pd.read_csv('../data/telegram_scraped_data.csv')"
   ]
  },
  {
   "cell_type": "code",
   "execution_count": 8,
   "metadata": {},
   "outputs": [
    {
     "data": {
      "text/html": [
       "<div>\n",
       "<style scoped>\n",
       "    .dataframe tbody tr th:only-of-type {\n",
       "        vertical-align: middle;\n",
       "    }\n",
       "\n",
       "    .dataframe tbody tr th {\n",
       "        vertical-align: top;\n",
       "    }\n",
       "\n",
       "    .dataframe thead th {\n",
       "        text-align: right;\n",
       "    }\n",
       "</style>\n",
       "<table border=\"1\" class=\"dataframe\">\n",
       "  <thead>\n",
       "    <tr style=\"text-align: right;\">\n",
       "      <th></th>\n",
       "      <th>Channel Name</th>\n",
       "      <th>Channel Handle</th>\n",
       "      <th>Message ID</th>\n",
       "      <th>Message Text</th>\n",
       "      <th>Timestamp</th>\n",
       "      <th>Media Path</th>\n",
       "    </tr>\n",
       "  </thead>\n",
       "  <tbody>\n",
       "    <tr>\n",
       "      <th>0</th>\n",
       "      <td>Lobelia pharmacy and cosmetics</td>\n",
       "      <td>@lobelia4cosmetics</td>\n",
       "      <td>12385</td>\n",
       "      <td>SARDINE \\nPrice 800 birr each \\nTelegram https...</td>\n",
       "      <td>2024-10-10 04:07:51+00:00</td>\n",
       "      <td>downloaded_images\\@lobelia4cosmetics_12385.jpg</td>\n",
       "    </tr>\n",
       "    <tr>\n",
       "      <th>1</th>\n",
       "      <td>Lobelia pharmacy and cosmetics</td>\n",
       "      <td>@lobelia4cosmetics</td>\n",
       "      <td>12384</td>\n",
       "      <td>UNSALTED MIXED NUTS \\nPrice 3600 birr \\nTelegr...</td>\n",
       "      <td>2024-10-10 04:07:51+00:00</td>\n",
       "      <td>downloaded_images\\@lobelia4cosmetics_12384.jpg</td>\n",
       "    </tr>\n",
       "    <tr>\n",
       "      <th>2</th>\n",
       "      <td>Lobelia pharmacy and cosmetics</td>\n",
       "      <td>@lobelia4cosmetics</td>\n",
       "      <td>12383</td>\n",
       "      <td>SALTED MIXED NUTS \\nPrice 3600 birr \\nTelegram...</td>\n",
       "      <td>2024-10-10 04:07:51+00:00</td>\n",
       "      <td>downloaded_images\\@lobelia4cosmetics_12383.jpg</td>\n",
       "    </tr>\n",
       "    <tr>\n",
       "      <th>3</th>\n",
       "      <td>Lobelia pharmacy and cosmetics</td>\n",
       "      <td>@lobelia4cosmetics</td>\n",
       "      <td>12382</td>\n",
       "      <td>UNSALTED CASHEWS\\nPrice 3600 birr \\nTelegram h...</td>\n",
       "      <td>2024-10-10 04:07:51+00:00</td>\n",
       "      <td>downloaded_images\\@lobelia4cosmetics_12382.jpg</td>\n",
       "    </tr>\n",
       "    <tr>\n",
       "      <th>4</th>\n",
       "      <td>Lobelia pharmacy and cosmetics</td>\n",
       "      <td>@lobelia4cosmetics</td>\n",
       "      <td>12381</td>\n",
       "      <td>QUAKER OATS \\nPrice 5000 birr \\nTelegram https...</td>\n",
       "      <td>2024-10-10 04:07:50+00:00</td>\n",
       "      <td>downloaded_images\\@lobelia4cosmetics_12381.jpg</td>\n",
       "    </tr>\n",
       "  </tbody>\n",
       "</table>\n",
       "</div>"
      ],
      "text/plain": [
       "                     Channel Name      Channel Handle  Message ID  \\\n",
       "0  Lobelia pharmacy and cosmetics  @lobelia4cosmetics       12385   \n",
       "1  Lobelia pharmacy and cosmetics  @lobelia4cosmetics       12384   \n",
       "2  Lobelia pharmacy and cosmetics  @lobelia4cosmetics       12383   \n",
       "3  Lobelia pharmacy and cosmetics  @lobelia4cosmetics       12382   \n",
       "4  Lobelia pharmacy and cosmetics  @lobelia4cosmetics       12381   \n",
       "\n",
       "                                        Message Text  \\\n",
       "0  SARDINE \\nPrice 800 birr each \\nTelegram https...   \n",
       "1  UNSALTED MIXED NUTS \\nPrice 3600 birr \\nTelegr...   \n",
       "2  SALTED MIXED NUTS \\nPrice 3600 birr \\nTelegram...   \n",
       "3  UNSALTED CASHEWS\\nPrice 3600 birr \\nTelegram h...   \n",
       "4  QUAKER OATS \\nPrice 5000 birr \\nTelegram https...   \n",
       "\n",
       "                   Timestamp                                      Media Path  \n",
       "0  2024-10-10 04:07:51+00:00  downloaded_images\\@lobelia4cosmetics_12385.jpg  \n",
       "1  2024-10-10 04:07:51+00:00  downloaded_images\\@lobelia4cosmetics_12384.jpg  \n",
       "2  2024-10-10 04:07:51+00:00  downloaded_images\\@lobelia4cosmetics_12383.jpg  \n",
       "3  2024-10-10 04:07:51+00:00  downloaded_images\\@lobelia4cosmetics_12382.jpg  \n",
       "4  2024-10-10 04:07:50+00:00  downloaded_images\\@lobelia4cosmetics_12381.jpg  "
      ]
     },
     "execution_count": 8,
     "metadata": {},
     "output_type": "execute_result"
    }
   ],
   "source": [
    "df.head()"
   ]
  },
  {
   "cell_type": "code",
   "execution_count": 9,
   "metadata": {},
   "outputs": [
    {
     "data": {
      "text/html": [
       "<div>\n",
       "<style scoped>\n",
       "    .dataframe tbody tr th:only-of-type {\n",
       "        vertical-align: middle;\n",
       "    }\n",
       "\n",
       "    .dataframe tbody tr th {\n",
       "        vertical-align: top;\n",
       "    }\n",
       "\n",
       "    .dataframe thead th {\n",
       "        text-align: right;\n",
       "    }\n",
       "</style>\n",
       "<table border=\"1\" class=\"dataframe\">\n",
       "  <thead>\n",
       "    <tr style=\"text-align: right;\">\n",
       "      <th></th>\n",
       "      <th>Message ID</th>\n",
       "    </tr>\n",
       "  </thead>\n",
       "  <tbody>\n",
       "    <tr>\n",
       "      <th>count</th>\n",
       "      <td>6991.000000</td>\n",
       "    </tr>\n",
       "    <tr>\n",
       "      <th>mean</th>\n",
       "      <td>4278.654413</td>\n",
       "    </tr>\n",
       "    <tr>\n",
       "      <th>std</th>\n",
       "      <td>4944.086697</td>\n",
       "    </tr>\n",
       "    <tr>\n",
       "      <th>min</th>\n",
       "      <td>1.000000</td>\n",
       "    </tr>\n",
       "    <tr>\n",
       "      <th>25%</th>\n",
       "      <td>477.500000</td>\n",
       "    </tr>\n",
       "    <tr>\n",
       "      <th>50%</th>\n",
       "      <td>1120.000000</td>\n",
       "    </tr>\n",
       "    <tr>\n",
       "      <th>75%</th>\n",
       "      <td>10593.500000</td>\n",
       "    </tr>\n",
       "    <tr>\n",
       "      <th>max</th>\n",
       "      <td>12385.000000</td>\n",
       "    </tr>\n",
       "  </tbody>\n",
       "</table>\n",
       "</div>"
      ],
      "text/plain": [
       "         Message ID\n",
       "count   6991.000000\n",
       "mean    4278.654413\n",
       "std     4944.086697\n",
       "min        1.000000\n",
       "25%      477.500000\n",
       "50%     1120.000000\n",
       "75%    10593.500000\n",
       "max    12385.000000"
      ]
     },
     "execution_count": 9,
     "metadata": {},
     "output_type": "execute_result"
    }
   ],
   "source": [
    "df.describe()"
   ]
  },
  {
   "cell_type": "code",
   "execution_count": 12,
   "metadata": {},
   "outputs": [],
   "source": [
    "df_v1 = df.drop_duplicates()"
   ]
  },
  {
   "cell_type": "code",
   "execution_count": 14,
   "metadata": {},
   "outputs": [],
   "source": [
    "df_v2 = df_v1.fillna('N/A')"
   ]
  },
  {
   "cell_type": "code",
   "execution_count": 15,
   "metadata": {},
   "outputs": [],
   "source": [
    "df_v2.to_csv('../data/telegram_data_v1.csv')"
   ]
  },
  {
   "cell_type": "code",
   "execution_count": 20,
   "metadata": {},
   "outputs": [],
   "source": [
    "import re\n",
    "\n",
    "def remove_emojis(text):\n",
    "    emoji_pattern = re.compile(\n",
    "        \"[\"\n",
    "        u\"\\U0001F600-\\U0001F64F\"  # emoticons\n",
    "        u\"\\U0001F300-\\U0001F5FF\"  # symbols & pictographs\n",
    "        u\"\\U0001F680-\\U0001F6FF\"  # transport & map symbols\n",
    "        u\"\\U0001F1E0-\\U0001F1FF\"  # flags (iOS)\n",
    "        u\"\\U00002500-\\U00002BEF\"  # other symbols, including arrows\n",
    "        u\"\\U00002702-\\U000027B0\"  # dingbats\n",
    "        u\"\\U0001F900-\\U0001F9FF\"  # supplemental symbols and pictographs\n",
    "        u\"\\U0001FA70-\\U0001FAFF\"  # more symbols and pictographs\n",
    "        u\"\\U0001F004-\\U0001F0CF\"  # playing cards\n",
    "        u\"\\U00002600-\\U000026FF\"  # miscellaneous symbols\n",
    "        u\"\\U00002300-\\U000023FF\"  # additional miscellaneous technical symbols\n",
    "        u\"\\U00002B50-\\U00002BFF\"  # more miscellaneous symbols (including stars)\n",
    "        u\"\\U00002B05-\\U00002B07\"  # arrows\n",
    "        \"]+\", flags=re.UNICODE\n",
    "    )\n",
    "    return emoji_pattern.sub(r'', text)\n",
    "\n",
    "df_v2['Message Text'] = df_v2['Message Text'].apply(remove_emojis)\n"
   ]
  },
  {
   "cell_type": "code",
   "execution_count": 21,
   "metadata": {},
   "outputs": [],
   "source": [
    "df_v2.to_csv('../data/telegram_data_v2.csv', index=False, encoding='utf-8-sig')"
   ]
  }
 ],
 "metadata": {
  "kernelspec": {
   "display_name": "myenv",
   "language": "python",
   "name": "python3"
  },
  "language_info": {
   "codemirror_mode": {
    "name": "ipython",
    "version": 3
   },
   "file_extension": ".py",
   "mimetype": "text/x-python",
   "name": "python",
   "nbconvert_exporter": "python",
   "pygments_lexer": "ipython3",
   "version": "3.11.2"
  }
 },
 "nbformat": 4,
 "nbformat_minor": 2
}
